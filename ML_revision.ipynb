{
 "cells": [
  {
   "cell_type": "code",
   "execution_count": 1,
   "metadata": {},
   "outputs": [],
   "source": [
    "import numpy as np\n",
    "import matplotlib.pyplot as plt\n",
    "from ipywidgets import interact\n",
    "\n",
    "#%matplotlib widget"
   ]
  },
  {
   "cell_type": "markdown",
   "metadata": {},
   "source": [
    "* The cost function takes the prediction $\\hat{y}$ and compares it to the target $y$ by taking $1/2m\\sum_{i=1}^m  (\\hat{y} - y)^2 = 1/2m\\sum_{i=1}^m  (f(x^i) - y^i)^2$.\n",
    "\n",
    "* bash gradient descent is looking at the entire batch of training examples at each update."
   ]
  },
  {
   "cell_type": "code",
   "execution_count": 2,
   "metadata": {},
   "outputs": [
    {
     "data": {
      "text/plain": [
       "15933.333333333332"
      ]
     },
     "execution_count": 2,
     "metadata": {},
     "output_type": "execute_result"
    }
   ],
   "source": [
    "def compute_cost(x, y, w, b): \n",
    "    \"\"\"\n",
    "    Computes the cost function for linear regression.\n",
    "    \n",
    "    Args:\n",
    "      x (ndarray (m,)): Data, m examples \n",
    "      y (ndarray (m,)): target values\n",
    "      w,b (scalar)    : model parameters  \n",
    "    \n",
    "    Returns\n",
    "        total_cost (float): The cost of using w,b as the parameters for linear regression\n",
    "               to fit the data points in x and y\n",
    "    \"\"\"\n",
    "    # number of training examples\n",
    "    m = x.shape[0] \n",
    "    \n",
    "    cost_sum = 0 \n",
    "    for i in range(m): \n",
    "        f_wb = w * x[i] + b   \n",
    "        cost = (f_wb - y[i]) ** 2  \n",
    "        cost_sum += cost  \n",
    "    total_cost = (1 / (2 * m)) * cost_sum  \n",
    "\n",
    "    return total_cost\n",
    "\n",
    "x_train = np.array([1.0, 1.7, 2.0, 2.5, 3.0, 3.2])\n",
    "y_train = np.array([250, 300, 480,  430,   630, 730,])\n",
    "w = 100\n",
    "b = 100\n",
    "compute_cost(x_train, y_train, w, b)"
   ]
  },
  {
   "cell_type": "code",
   "execution_count": 5,
   "metadata": {},
   "outputs": [
    {
     "data": {
      "image/png": "[encoded data removed]",
      "text/plain": [
       "<Figure size 640x480 with 1 Axes>"
      ]
     },
     "metadata": {},
     "output_type": "display_data"
    }
   ],
   "source": [
    "def compute_linear_cost_optimized(x, y, w, b):\n",
    "    \"\"\"\n",
    "    Computes the cost function for linear regression.\n",
    "\n",
    "    Args:\n",
    "      x (ndarray (m,)): Data, m examples\n",
    "      y (ndarray (m,)): target values\n",
    "      w,b (scalar)    : model parameters\n",
    "\n",
    "    Returns\n",
    "        total_cost (float): The cost of using w,b as the parameters for linear regression\n",
    "               to fit the data points in x and y\n",
    "    \"\"\"\n",
    "    # number of training examples\n",
    "    m = x.shape[0]\n",
    "\n",
    "    f_wb = w * x + b\n",
    "    cost = np.sum((f_wb - y) ** 2)\n",
    "    total_cost = cost / (2 * m)\n",
    "\n",
    "    return total_cost\n",
    "w = np.linspace(-200, 400, 100)\n",
    "plt.figure()\n",
    "for w_i in w:\n",
    "    plt.plot(w_i, compute_linear_cost_optimized(x_train, y_train, w_i, b), 'bo')\n",
    "#compute_cost_optimized(x_train, y_train, w, b)"
   ]
  },
  {
   "cell_type": "code",
   "execution_count": 6,
   "metadata": {},
   "outputs": [],
   "source": [
    "def plt_house_x(X, y,f_wb=None, ax=None):\n",
    "    ''' plot house with aXis '''\n",
    "    if not ax:\n",
    "        fig, ax = plt.subplots(1,1)\n",
    "    ax.scatter(X, y, marker='x', c='r', label=\"Actual Value\")\n",
    "\n",
    "    ax.set_title(\"Housing Prices\")\n",
    "    ax.set_ylabel('Price (in 1000s of dollars)')\n",
    "    ax.set_xlabel(f'Size (1000 sqft)')\n",
    "    if f_wb is not None:\n",
    "        ax.plot(X, f_wb,  c='b', label=\"Our Prediction\")\n",
    "    ax.legend()\n",
    "\n",
    "\n",
    "def mk_cost_lines(x,y,w,b, ax):\n",
    "    ''' makes vertical cost lines'''\n",
    "    cstr = \"cost = (1/m)*(\"\n",
    "    ctot = 0\n",
    "    label = 'cost for point'\n",
    "    addedbreak = False\n",
    "    for p in zip(x,y):\n",
    "        f_wb_p = w*p[0]+b\n",
    "        c_p = ((f_wb_p - p[1])**2)/2\n",
    "        c_p_txt = c_p\n",
    "        ax.vlines(p[0], p[1],f_wb_p, lw=3, color='red', ls='dotted', label=label)\n",
    "        label='' #just one\n",
    "        cxy = [p[0], p[1] + (f_wb_p-p[1])/2]\n",
    "        ax.annotate(f'{c_p_txt:0.0f}', xy=cxy, xycoords='data',color='red',\n",
    "            xytext=(5, 0), textcoords='offset points')\n",
    "        cstr += f\"{c_p_txt:0.0f} +\"\n",
    "        if len(cstr) > 38 and addedbreak is False:\n",
    "            cstr += \"\\n\"\n",
    "            addedbreak = True\n",
    "        ctot += c_p\n",
    "    ctot = ctot/(len(x))\n",
    "    cstr = cstr[:-1] + f\") = {ctot:0.0f}\"\n",
    "    ax.text(0.15,0.02,cstr, transform=ax.transAxes, color='red')\n",
    "\n",
    "\n",
    "def plt_intuition(x_train, y_train):\n",
    "\n",
    "    w_range = np.array([200-200,200+200])\n",
    "    tmp_b = 100\n",
    "\n",
    "    w_array = np.arange(*w_range, 5)\n",
    "    cost = np.zeros_like(w_array)\n",
    "    for i in range(len(w_array)):\n",
    "        tmp_w = w_array[i]\n",
    "        cost[i] = compute_linear_cost_optimized(x_train, y_train, tmp_w, tmp_b)\n",
    "\n",
    "    @interact(w=(*w_range,10),continuous_update=False)\n",
    "    def func( w=150):\n",
    "        f_wb = np.dot(x_train, w) + tmp_b\n",
    "\n",
    "        fig, ax = plt.subplots(1, 2, constrained_layout=True, figsize=(8,4))\n",
    "        fig.canvas.toolbar_position = 'bottom'\n",
    "\n",
    "        mk_cost_lines(x_train, y_train, w, tmp_b, ax[0])\n",
    "        plt_house_x(x_train, y_train, f_wb=f_wb, ax=ax[0])\n",
    "\n",
    "        ax[1].plot(w_array, cost)\n",
    "        cur_cost = compute_linear_cost_optimized(x_train, y_train, w, tmp_b)\n",
    "        ax[1].scatter(w,cur_cost, s=100, color='k', zorder= 10, label= f\"cost at w={w}\")\n",
    "        ax[1].hlines(cur_cost, ax[1].get_xlim()[0],w, lw=4, color='red', ls='dotted')\n",
    "        ax[1].vlines(w, ax[1].get_ylim()[0],cur_cost, lw=4, color='red', ls='dotted')\n",
    "        ax[1].set_title(\"Cost vs. w, (b fixed at 100)\")\n",
    "        ax[1].set_ylabel('Cost')\n",
    "        ax[1].set_xlabel('w')\n",
    "        ax[1].legend(loc='upper center')\n",
    "        fig.suptitle(f\"Minimize Cost: Current Cost = {cur_cost:0.0f}\", fontsize=12)\n",
    "        plt.show()"
   ]
  },
  {
   "cell_type": "code",
   "execution_count": 7,
   "metadata": {},
   "outputs": [
    {
     "data": {
      "application/vnd.jupyter.widget-view+json": {
       "model_id": "1bb87c9eeb8a460dabe25d45f6f0350a",
       "version_major": 2,
       "version_minor": 0
      },
      "text/plain": [
       "interactive(children=(IntSlider(value=150, description='w', max=400, step=10), Output()), _dom_classes=('widge…"
      ]
     },
     "metadata": {},
     "output_type": "display_data"
    }
   ],
   "source": [
    "#%pip install ipywidgets --upgrade\n",
    "plt_intuition(x_train,y_train)"
   ]
  },
  {
   "cell_type": "code",
   "execution_count": 8,
   "metadata": {},
   "outputs": [
    {
     "name": "stdout",
     "output_type": "stream",
     "text": [
      "Iteration    0: Cost 1.09e+05  dj_dw: -1.170e+03, dj_db: -4.700e+02   w:  1.170e+01, b: 4.70000e+00\n",
      "Iteration 1000: Cost 1.78e+03  dj_dw: -1.060e+00, dj_db:  2.599e+00   w:  1.974e+02, b: 3.16325e+01\n",
      "Iteration 2000: Cost 1.74e+03  dj_dw: -4.357e-01, dj_db:  1.068e+00   w:  2.045e+02, b: 1.44256e+01\n",
      "Iteration 3000: Cost 1.74e+03  dj_dw: -1.790e-01, dj_db:  4.388e-01   w:  2.074e+02, b: 7.35495e+00\n",
      "Iteration 4000: Cost 1.74e+03  dj_dw: -7.357e-02, dj_db:  1.803e-01   w:  2.085e+02, b: 4.44950e+00\n",
      "Iteration 5000: Cost 1.74e+03  dj_dw: -3.023e-02, dj_db:  7.410e-02   w:  2.090e+02, b: 3.25559e+00\n",
      "Iteration 6000: Cost 1.74e+03  dj_dw: -1.242e-02, dj_db:  3.045e-02   w:  2.092e+02, b: 2.76500e+00\n",
      "Iteration 7000: Cost 1.74e+03  dj_dw: -5.104e-03, dj_db:  1.251e-02   w:  2.093e+02, b: 2.56340e+00\n",
      "Iteration 8000: Cost 1.74e+03  dj_dw: -2.097e-03, dj_db:  5.141e-03   w:  2.093e+02, b: 2.48056e+00\n",
      "Iteration 9000: Cost 1.74e+03  dj_dw: -8.619e-04, dj_db:  2.113e-03   w:  2.094e+02, b: 2.44652e+00\n",
      "(w,b) found by gradient descent: (209.3590,  2.4325)\n"
     ]
    }
   ],
   "source": [
    "def compute_gradient(x, y, w, b):\n",
    "    \"\"\"\n",
    "    Computes the gradient for linear regression.\n",
    "\n",
    "    Args:\n",
    "      x (ndarray (m,)): Data, m examples\n",
    "      y (ndarray (m,)): target values\n",
    "      w,b (scalar)    : model parameters\n",
    "\n",
    "    Returns\n",
    "      dj_dw (scalar): The gradient of the cost w.r.t. the parameters w\n",
    "      dj_db (scalar): The gradient of the cost w.r.t. the parameter b\n",
    "    \"\"\"\n",
    "\n",
    "    # Number of training examples\n",
    "    m = x.shape[0]\n",
    "\n",
    "    f_wb = w * x + b\n",
    "    dj_dw = np.sum((f_wb - y) * x) / m\n",
    "    dj_db = np.sum(f_wb - y) / m\n",
    "\n",
    "    return dj_dw, dj_db\n",
    "\n",
    "\n",
    "def gradient_descent(x, y, w_in, b_in, alpha, num_iters, compute_linear_cost_optimized, gradient_function): \n",
    "    \"\"\"\n",
    "    Performs gradient descent to fit w,b. Updates w,b by taking \n",
    "    num_iters gradient steps with learning rate alpha\n",
    "    \n",
    "    Args:\n",
    "      x (ndarray (m,))  : Data, m examples \n",
    "      y (ndarray (m,))  : target values\n",
    "      w_in,b_in (scalar): initial values of model parameters  \n",
    "      alpha (float):     Learning rate\n",
    "      num_iters (int):   number of iterations to run gradient descent\n",
    "      cost_function:     function to call to produce cost\n",
    "      gradient_function: function to call to produce gradient\n",
    "      \n",
    "    Returns:\n",
    "      w (scalar): Updated value of parameter after running gradient descent\n",
    "      b (scalar): Updated value of parameter after running gradient descent\n",
    "      J_history (List): History of cost values\n",
    "      p_history (list): History of parameters [w,b] \n",
    "      \"\"\"\n",
    "    \n",
    "    # An array to store cost J and w's at each iteration primarily for graphing later\n",
    "    J_history = []\n",
    "    p_history = []\n",
    "    b = b_in\n",
    "    w = w_in\n",
    "    \n",
    "    for i in range(num_iters):\n",
    "        # Calculate the gradient and update the parameters using gradient_function\n",
    "        dj_dw, dj_db = gradient_function(x, y, w , b)     \n",
    "\n",
    "        # Update Parameters using equation (3) above\n",
    "        b = b - alpha * dj_db                            \n",
    "        w = w - alpha * dj_dw                            \n",
    "\n",
    "        # Save cost J at each iteration\n",
    "        if i<100000:      # prevent resource exhaustion \n",
    "            J_history.append( compute_linear_cost_optimized(x, y, w , b))\n",
    "            p_history.append([w,b])\n",
    "        # Print cost every at intervals 10 times or as many iterations if < 10\n",
    "        if i% np.ceil(num_iters/10) == 0:\n",
    "            print(f\"Iteration {i:4}: Cost {J_history[-1]:0.2e} \",\n",
    "                  f\"dj_dw: {dj_dw: 0.3e}, dj_db: {dj_db: 0.3e}  \",\n",
    "                  f\"w: {w: 0.3e}, b:{b: 0.5e}\")\n",
    " \n",
    "    return w, b, J_history, p_history #return w and J,w history for graphing\n",
    "\n",
    "\n",
    "# initialize parameters\n",
    "w_init = 0\n",
    "b_init = 0\n",
    "# some gradient descent settings\n",
    "iterations = 10000\n",
    "tmp_alpha = 1.0e-2\n",
    "# run gradient descent\n",
    "w_final, b_final, J_hist, p_hist = gradient_descent(x_train ,y_train, w_init, b_init, tmp_alpha, \n",
    "                                                    iterations, compute_linear_cost_optimized, compute_gradient)\n",
    "print(f\"(w,b) found by gradient descent: ({w_final:8.4f},{b_final:8.4f})\")"
   ]
  },
  {
   "cell_type": "code",
   "execution_count": null,
   "metadata": {},
   "outputs": [],
   "source": []
  }
 ],
 "metadata": {
  "kernelspec": {
   "display_name": "base",
   "language": "python",
   "name": "python3"
  },
  "language_info": {
   "codemirror_mode": {
    "name": "ipython",
    "version": 3
   },
   "file_extension": ".py",
   "mimetype": "text/x-python",
   "name": "python",
   "nbconvert_exporter": "python",
   "pygments_lexer": "ipython3",
   "version": "3.11.3"
  }
 },
 "nbformat": 4,
 "nbformat_minor": 2
}
